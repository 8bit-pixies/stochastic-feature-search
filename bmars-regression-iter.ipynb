{
 "cells": [
  {
   "cell_type": "code",
   "execution_count": 1,
   "metadata": {
    "collapsed": true
   },
   "outputs": [],
   "source": [
    "from base_regression import *"
   ]
  },
  {
   "cell_type": "code",
   "execution_count": 2,
   "metadata": {
    "collapsed": true
   },
   "outputs": [],
   "source": [
    "from __future__ import print_function\n",
    "import numpy as np\n",
    "import pandas as pd\n",
    "\n",
    "from sklearn.pipeline import Pipeline\n",
    "from sklearn.linear_model import SGDClassifier\n",
    "from sklearn.svm import SVC\n",
    "from sklearn.model_selection import KFold\n",
    "from sklearn.model_selection import cross_val_score\n",
    "from sklearn import datasets\n",
    "from sklearn import svm\n",
    "# for sampling\n",
    "import random # use random.choice? and random.sample for interactions\n",
    "\n",
    "from sklearn.metrics import make_scorer\n",
    "from sklearn.datasets import make_regression\n",
    "from sklearn.metrics import *\n"
   ]
  },
  {
   "cell_type": "code",
   "execution_count": 3,
   "metadata": {
    "collapsed": true
   },
   "outputs": [],
   "source": [
    "X, y = make_regression(1000, n_features=30, n_informative=5)"
   ]
  },
  {
   "cell_type": "code",
   "execution_count": 4,
   "metadata": {
    "collapsed": true
   },
   "outputs": [],
   "source": [
    "df = pd.read_csv(\"data/robotarm.csv\")"
   ]
  },
  {
   "cell_type": "code",
   "execution_count": 5,
   "metadata": {},
   "outputs": [
    {
     "data": {
      "text/html": [
       "<div>\n",
       "<style>\n",
       "    .dataframe thead tr:only-child th {\n",
       "        text-align: right;\n",
       "    }\n",
       "\n",
       "    .dataframe thead th {\n",
       "        text-align: left;\n",
       "    }\n",
       "\n",
       "    .dataframe tbody tr th {\n",
       "        vertical-align: top;\n",
       "    }\n",
       "</style>\n",
       "<table border=\"1\" class=\"dataframe\">\n",
       "  <thead>\n",
       "    <tr style=\"text-align: right;\">\n",
       "      <th></th>\n",
       "      <th>l1</th>\n",
       "      <th>l2</th>\n",
       "      <th>theta1</th>\n",
       "      <th>theta2</th>\n",
       "      <th>phi</th>\n",
       "      <th>V6</th>\n",
       "      <th>V7</th>\n",
       "      <th>V8</th>\n",
       "      <th>V9</th>\n",
       "      <th>V10</th>\n",
       "      <th>...</th>\n",
       "      <th>V22</th>\n",
       "      <th>V23</th>\n",
       "      <th>V24</th>\n",
       "      <th>V25</th>\n",
       "      <th>V26</th>\n",
       "      <th>V27</th>\n",
       "      <th>V28</th>\n",
       "      <th>V29</th>\n",
       "      <th>V30</th>\n",
       "      <th>response</th>\n",
       "    </tr>\n",
       "  </thead>\n",
       "  <tbody>\n",
       "    <tr>\n",
       "      <th>0</th>\n",
       "      <td>0.265509</td>\n",
       "      <td>0.802350</td>\n",
       "      <td>4.838564</td>\n",
       "      <td>5.908569</td>\n",
       "      <td>-0.728802</td>\n",
       "      <td>0.213364</td>\n",
       "      <td>0.111779</td>\n",
       "      <td>0.759629</td>\n",
       "      <td>0.173838</td>\n",
       "      <td>0.759032</td>\n",
       "      <td>...</td>\n",
       "      <td>0.704558</td>\n",
       "      <td>0.351085</td>\n",
       "      <td>0.675673</td>\n",
       "      <td>0.923004</td>\n",
       "      <td>0.175308</td>\n",
       "      <td>0.046382</td>\n",
       "      <td>0.082509</td>\n",
       "      <td>0.644592</td>\n",
       "      <td>0.787488</td>\n",
       "      <td>0.413735</td>\n",
       "    </tr>\n",
       "    <tr>\n",
       "      <th>1</th>\n",
       "      <td>0.372124</td>\n",
       "      <td>0.479495</td>\n",
       "      <td>4.337047</td>\n",
       "      <td>6.262863</td>\n",
       "      <td>-1.251046</td>\n",
       "      <td>0.969357</td>\n",
       "      <td>0.076628</td>\n",
       "      <td>0.523714</td>\n",
       "      <td>0.559547</td>\n",
       "      <td>0.324686</td>\n",
       "      <td>...</td>\n",
       "      <td>0.842908</td>\n",
       "      <td>0.687034</td>\n",
       "      <td>0.808810</td>\n",
       "      <td>0.691293</td>\n",
       "      <td>0.538147</td>\n",
       "      <td>0.514819</td>\n",
       "      <td>0.884079</td>\n",
       "      <td>0.187829</td>\n",
       "      <td>0.487828</td>\n",
       "      <td>0.221650</td>\n",
       "    </tr>\n",
       "    <tr>\n",
       "      <th>2</th>\n",
       "      <td>0.572853</td>\n",
       "      <td>0.177402</td>\n",
       "      <td>4.087068</td>\n",
       "      <td>1.463417</td>\n",
       "      <td>-1.151004</td>\n",
       "      <td>0.727771</td>\n",
       "      <td>0.172016</td>\n",
       "      <td>0.265373</td>\n",
       "      <td>0.918291</td>\n",
       "      <td>0.694882</td>\n",
       "      <td>...</td>\n",
       "      <td>0.589859</td>\n",
       "      <td>0.955572</td>\n",
       "      <td>0.427124</td>\n",
       "      <td>0.269862</td>\n",
       "      <td>0.034984</td>\n",
       "      <td>0.897163</td>\n",
       "      <td>0.528107</td>\n",
       "      <td>0.233737</td>\n",
       "      <td>0.768048</td>\n",
       "      <td>0.591990</td>\n",
       "    </tr>\n",
       "    <tr>\n",
       "      <th>3</th>\n",
       "      <td>0.908208</td>\n",
       "      <td>0.397133</td>\n",
       "      <td>0.469077</td>\n",
       "      <td>0.891591</td>\n",
       "      <td>0.940444</td>\n",
       "      <td>0.343964</td>\n",
       "      <td>0.842057</td>\n",
       "      <td>0.131919</td>\n",
       "      <td>0.178652</td>\n",
       "      <td>0.553256</td>\n",
       "      <td>...</td>\n",
       "      <td>0.437607</td>\n",
       "      <td>0.737775</td>\n",
       "      <td>0.709195</td>\n",
       "      <td>0.537626</td>\n",
       "      <td>0.825702</td>\n",
       "      <td>0.944048</td>\n",
       "      <td>0.633769</td>\n",
       "      <td>0.241314</td>\n",
       "      <td>0.769587</td>\n",
       "      <td>0.821492</td>\n",
       "    </tr>\n",
       "    <tr>\n",
       "      <th>4</th>\n",
       "      <td>0.201682</td>\n",
       "      <td>0.814227</td>\n",
       "      <td>5.671082</td>\n",
       "      <td>0.416556</td>\n",
       "      <td>-1.523702</td>\n",
       "      <td>0.144012</td>\n",
       "      <td>0.536417</td>\n",
       "      <td>0.373336</td>\n",
       "      <td>0.948005</td>\n",
       "      <td>0.016108</td>\n",
       "      <td>...</td>\n",
       "      <td>0.410825</td>\n",
       "      <td>0.368753</td>\n",
       "      <td>0.833490</td>\n",
       "      <td>0.277265</td>\n",
       "      <td>0.118353</td>\n",
       "      <td>0.967892</td>\n",
       "      <td>0.359782</td>\n",
       "      <td>0.667630</td>\n",
       "      <td>0.248911</td>\n",
       "      <td>0.369189</td>\n",
       "    </tr>\n",
       "  </tbody>\n",
       "</table>\n",
       "<p>5 rows × 31 columns</p>\n",
       "</div>"
      ],
      "text/plain": [
       "         l1        l2    theta1    theta2       phi        V6        V7  \\\n",
       "0  0.265509  0.802350  4.838564  5.908569 -0.728802  0.213364  0.111779   \n",
       "1  0.372124  0.479495  4.337047  6.262863 -1.251046  0.969357  0.076628   \n",
       "2  0.572853  0.177402  4.087068  1.463417 -1.151004  0.727771  0.172016   \n",
       "3  0.908208  0.397133  0.469077  0.891591  0.940444  0.343964  0.842057   \n",
       "4  0.201682  0.814227  5.671082  0.416556 -1.523702  0.144012  0.536417   \n",
       "\n",
       "         V8        V9       V10    ...          V22       V23       V24  \\\n",
       "0  0.759629  0.173838  0.759032    ...     0.704558  0.351085  0.675673   \n",
       "1  0.523714  0.559547  0.324686    ...     0.842908  0.687034  0.808810   \n",
       "2  0.265373  0.918291  0.694882    ...     0.589859  0.955572  0.427124   \n",
       "3  0.131919  0.178652  0.553256    ...     0.437607  0.737775  0.709195   \n",
       "4  0.373336  0.948005  0.016108    ...     0.410825  0.368753  0.833490   \n",
       "\n",
       "        V25       V26       V27       V28       V29       V30  response  \n",
       "0  0.923004  0.175308  0.046382  0.082509  0.644592  0.787488  0.413735  \n",
       "1  0.691293  0.538147  0.514819  0.884079  0.187829  0.487828  0.221650  \n",
       "2  0.269862  0.034984  0.897163  0.528107  0.233737  0.768048  0.591990  \n",
       "3  0.537626  0.825702  0.944048  0.633769  0.241314  0.769587  0.821492  \n",
       "4  0.277265  0.118353  0.967892  0.359782  0.667630  0.248911  0.369189  \n",
       "\n",
       "[5 rows x 31 columns]"
      ]
     },
     "execution_count": 5,
     "metadata": {},
     "output_type": "execute_result"
    }
   ],
   "source": [
    "df.head()"
   ]
  },
  {
   "cell_type": "code",
   "execution_count": 6,
   "metadata": {
    "collapsed": true
   },
   "outputs": [],
   "source": [
    "pred = [x for x in df.columns if x != 'response']\n",
    "X = np.array(df[pred])\n",
    "y = np.array(df[['response']]).flatten()"
   ]
  },
  {
   "cell_type": "code",
   "execution_count": 7,
   "metadata": {},
   "outputs": [
    {
     "name": "stdout",
     "output_type": "stream",
     "text": [
      "Result: 0.5058345391379547\n"
     ]
    },
    {
     "data": {
      "text/plain": [
       "0.50583453913795473"
      ]
     },
     "execution_count": 7,
     "metadata": {},
     "output_type": "execute_result"
    }
   ],
   "source": [
    "current_model = BMARS(X, 2)\n",
    "eval_pipeline(current_model.construct_pipeline(False), X, y)"
   ]
  },
  {
   "cell_type": "code",
   "execution_count": 8,
   "metadata": {},
   "outputs": [
    {
     "name": "stdout",
     "output_type": "stream",
     "text": [
      "action: birth\n",
      "output: {'basis': [0, 9], 'sign': [-1, 1], 'knot': array([ 0.12028226,  0.00087225])}\n",
      "acceptance_proba: 1.0\n",
      "\tbayes_factor: 1.0038054602338486\n",
      "\tprior_ratio: 1.184108123496835e-09\n",
      "\tproposal_ratio: 2533552418.45701\n"
     ]
    }
   ],
   "source": [
    "alpha, model1 = mh_iter(X, y, current_model)"
   ]
  },
  {
   "cell_type": "code",
   "execution_count": 9,
   "metadata": {},
   "outputs": [
    {
     "name": "stdout",
     "output_type": "stream",
     "text": [
      "Result: 0.5101034815291323\n",
      "Result: 0.5324070076610262\n",
      "Result: 0.5305863721457605\n",
      "Result: 0.5166576872438696\n",
      "Result: 0.5148524836663725\n",
      "Wall time: 17min 56s\n"
     ]
    }
   ],
   "source": [
    "%%time\n",
    "# run for 10 iters...\n",
    "iters = 50\n",
    "\n",
    "for idx in range(iters):\n",
    "    try:\n",
    "        alpha, next_model = mh_iter(X, y, current_model, False)\n",
    "        current_model = BMARS(**next_model)   \n",
    "    except:\n",
    "        print(\"\\n---\\n\")\n",
    "        pass\n",
    "    if idx % 10 == 0:\n",
    "        eval_pipeline(current_model.construct_pipeline(False), X, y, verbose=True)\n",
    "    "
   ]
  },
  {
   "cell_type": "code",
   "execution_count": 10,
   "metadata": {},
   "outputs": [
    {
     "name": "stdout",
     "output_type": "stream",
     "text": [
      "Result: 0.5074583383484548\n"
     ]
    },
    {
     "data": {
      "text/plain": [
       "0.50745833834845477"
      ]
     },
     "execution_count": 10,
     "metadata": {},
     "output_type": "execute_result"
    }
   ],
   "source": [
    "eval_pipeline(current_model.construct_pipeline(False), X, y)"
   ]
  },
  {
   "cell_type": "code",
   "execution_count": 11,
   "metadata": {},
   "outputs": [
    {
     "data": {
      "text/plain": [
       "{'X': array([[ 0.26550866,  0.80234954,  4.83856409,  5.90856851, -0.72880194,\n",
       "          0.21336393,  0.11177927,  0.75962931,  0.173838  ,  0.75903228,\n",
       "          0.41530902,  0.23547477,  0.82930183,  0.16968226,  0.72611049,\n",
       "          0.94155787,  0.75035443,  0.80986214,  0.72848742,  0.70066313,\n",
       "          0.73168672,  0.70455816,  0.35108534,  0.67567281,  0.92300411,\n",
       "          0.17530818,  0.04638161,  0.08250872,  0.64459216,  0.78748828]]),\n",
       " 'basis': [[0, 28],\n",
       "  [24, 21],\n",
       "  [10, 12],\n",
       "  [6, 15],\n",
       "  [3, 14],\n",
       "  [17, 18],\n",
       "  [2, 8],\n",
       "  [11, 25],\n",
       "  [5, 8],\n",
       "  [8, 22],\n",
       "  [0, 13],\n",
       "  [18, 23],\n",
       "  [24, 27],\n",
       "  [5, 28],\n",
       "  [17, 2],\n",
       "  [2, 12],\n",
       "  [19, 27],\n",
       "  [1, 20],\n",
       "  [0, 17],\n",
       "  [19, 6],\n",
       "  [7, 15]],\n",
       " 'interaction': 2,\n",
       " 'params': [{'knots': array([ 0.41330587,  0.62568204]), 'signs': [-1, 1]},\n",
       "  {'knots': array([ 0.67961122,  0.39270235]), 'signs': [-1, 1]},\n",
       "  {'knots': array([ 0.50513226,  0.57718178]), 'signs': [1, -1]},\n",
       "  {'knots': array([ 0.33174715,  0.41551649]), 'signs': [1, -1]},\n",
       "  {'knots': array([ 2.37645196,  0.49408808]), 'signs': [-1, 1]},\n",
       "  {'knots': array([ 0.24750113,  0.38567031]), 'signs': [-1, 1]},\n",
       "  {'knots': array([ 5.01382644,  0.53254396]), 'signs': [-1, 1]},\n",
       "  {'knots': array([ 0.29795147,  0.86322433]), 'signs': [-1, -1]},\n",
       "  {'knots': array([ 0.06549172,  0.69098261]), 'signs': [-1, -1]},\n",
       "  {'knots': array([ 0.96797395,  0.53769993]), 'signs': [1, 1]},\n",
       "  {'knots': array([ 0.25400483,  0.20066218]), 'signs': [1, -1]},\n",
       "  {'knots': array([ 0.78601293,  0.01051917]), 'signs': [-1, 1]},\n",
       "  {'knots': array([ 0.68881139,  0.35354377]), 'signs': [-1, 1]},\n",
       "  {'knots': array([ 0.01212582,  0.56774963]), 'signs': [1, -1]},\n",
       "  {'knots': array([ 0.44644564,  0.81658975]), 'signs': [-1, -1]},\n",
       "  {'knots': array([ 1.73736878,  0.21493076]), 'signs': [-1, 1]},\n",
       "  {'knots': array([ 0.27616903,  0.34106752]), 'signs': [-1, 1]},\n",
       "  {'knots': array([ 0.2979058,  0.0725241]), 'signs': [1, 1]},\n",
       "  {'knots': array([ 0.90569401,  0.44161066]), 'signs': [1, 1]},\n",
       "  {'knots': array([ 0.36235696,  0.30536667]), 'signs': [-1, -1]},\n",
       "  {'knots': array([ 0.10465939,  0.57506156]), 'signs': [-1, -1]}]}"
      ]
     },
     "execution_count": 11,
     "metadata": {},
     "output_type": "execute_result"
    }
   ],
   "source": [
    "current_model.export()"
   ]
  }
 ],
 "metadata": {
  "kernelspec": {
   "display_name": "Python [default]",
   "language": "python",
   "name": "python3"
  },
  "language_info": {
   "codemirror_mode": {
    "name": "ipython",
    "version": 3
   },
   "file_extension": ".py",
   "mimetype": "text/x-python",
   "name": "python",
   "nbconvert_exporter": "python",
   "pygments_lexer": "ipython3",
   "version": "3.5.2"
  }
 },
 "nbformat": 4,
 "nbformat_minor": 2
}
