{
 "cells": [
  {
   "cell_type": "code",
   "execution_count": 1,
   "metadata": {
    "collapsed": true
   },
   "outputs": [],
   "source": [
    "from base_regression import *"
   ]
  },
  {
   "cell_type": "code",
   "execution_count": 2,
   "metadata": {
    "collapsed": true
   },
   "outputs": [],
   "source": [
    "from __future__ import print_function\n",
    "import numpy as np\n",
    "import pandas as pd\n",
    "\n",
    "from sklearn.pipeline import Pipeline\n",
    "from sklearn.linear_model import SGDClassifier\n",
    "from sklearn.svm import SVC\n",
    "from sklearn.model_selection import KFold\n",
    "from sklearn.model_selection import cross_val_score\n",
    "from sklearn import datasets\n",
    "from sklearn import svm\n",
    "# for sampling\n",
    "import random # use random.choice? and random.sample for interactions\n",
    "\n",
    "from sklearn.metrics import make_scorer\n",
    "from sklearn.datasets import make_regression\n",
    "from sklearn.metrics import *\n"
   ]
  },
  {
   "cell_type": "code",
   "execution_count": 3,
   "metadata": {},
   "outputs": [],
   "source": [
    "X, y = make_regression(1000, n_features=30, n_informative=5)"
   ]
  },
  {
   "cell_type": "code",
   "execution_count": 4,
   "metadata": {},
   "outputs": [
    {
     "name": "stdout",
     "output_type": "stream",
     "text": [
      "Result: 0.9999994506653225\n"
     ]
    },
    {
     "data": {
      "text/plain": [
       "0.99999945066532248"
      ]
     },
     "execution_count": 4,
     "metadata": {},
     "output_type": "execute_result"
    }
   ],
   "source": [
    "current_model = BMARS(X, 2)\n",
    "eval_pipeline(current_model.construct_pipeline(False), X, y)"
   ]
  },
  {
   "cell_type": "code",
   "execution_count": 5,
   "metadata": {},
   "outputs": [
    {
     "name": "stdout",
     "output_type": "stream",
     "text": [
      "action: birth\n",
      "action: birth\n",
      "output: {'knot': array([-0.00412846, -0.65807824]), 'sign': [-1, -1], 'basis': [20, 25]}\n",
      "acceptance_proba: 1.0\n",
      "\tbayes_factor: 1.000000010929715\n",
      "\tprior_ratio: 9.612258842067524e-09\n",
      "\tproposal_ratio: 312101458.07462686\n"
     ]
    }
   ],
   "source": [
    "alpha, model1 = mh_iter(X, y, current_model)"
   ]
  },
  {
   "cell_type": "code",
   "execution_count": 6,
   "metadata": {},
   "outputs": [
    {
     "name": "stdout",
     "output_type": "stream",
     "text": [
      "action: birth\n",
      "action: birth\n",
      "action: change\n",
      "action: birth\n",
      "action: change\n",
      "action: change\n",
      "action: birth\n",
      "action: birth\n",
      "action: change\n",
      "action: change\n",
      "action: birth\n",
      "action: birth\n",
      "action: change\n",
      "action: change\n",
      "action: birth\n",
      "action: birth\n",
      "action: change\n",
      "action: change\n",
      "action: death\n",
      "action: change\n",
      "action: death\n",
      "action: death\n",
      "action: birth\n",
      "action: birth\n",
      "action: birth\n",
      "action: death\n",
      "action: change\n",
      "action: birth\n",
      "action: change\n",
      "action: birth\n",
      "action: death\n",
      "action: change\n",
      "action: death\n",
      "action: death\n",
      "action: birth\n",
      "action: birth\n",
      "action: death\n",
      "action: change\n",
      "action: change\n",
      "action: change\n",
      "action: death\n",
      "action: death\n",
      "action: change\n",
      "action: change\n",
      "action: birth\n",
      "action: birth\n",
      "action: birth\n",
      "action: change\n",
      "action: change\n",
      "action: birth\n",
      "Wall time: 12min 39s\n"
     ]
    }
   ],
   "source": [
    "%%time\n",
    "# run for 10 iters...\n",
    "iters = 50\n",
    "\n",
    "for _ in range(iters):\n",
    "    try:\n",
    "        alpha, next_model = mh_iter(X, y, current_model, False)\n",
    "        current_model = BMARS(**next_model)   \n",
    "    except:\n",
    "        print(\"\\n---\\n\")\n",
    "        pass\n",
    "    "
   ]
  },
  {
   "cell_type": "code",
   "execution_count": 7,
   "metadata": {},
   "outputs": [
    {
     "name": "stdout",
     "output_type": "stream",
     "text": [
      "Result: 0.999999463456924\n"
     ]
    },
    {
     "data": {
      "text/plain": [
       "0.99999946345692403"
      ]
     },
     "execution_count": 7,
     "metadata": {},
     "output_type": "execute_result"
    }
   ],
   "source": [
    "eval_pipeline(current_model.construct_pipeline(False), X, y)"
   ]
  },
  {
   "cell_type": "code",
   "execution_count": 8,
   "metadata": {},
   "outputs": [
    {
     "data": {
      "text/plain": [
       "{'X': array([[ 0.01901448,  2.05185057,  0.15917775, -0.69659869, -0.92705932,\n",
       "          0.6606366 , -0.19621994,  0.10774462, -1.40490027, -0.33064417,\n",
       "         -0.10514226,  0.59698639, -0.05882021,  0.47215394, -1.68397143,\n",
       "         -0.44020751,  1.88561662, -0.28747344,  1.32389713, -0.70790102,\n",
       "          0.41457444, -0.83584958,  1.03273505, -0.66021199,  0.82123069,\n",
       "         -1.56448551, -0.13069419,  1.70008861, -0.30117336, -1.12802154]]),\n",
       " 'basis': [[14, 29],\n",
       "  [5, 12],\n",
       "  [1, 7],\n",
       "  [14, 23],\n",
       "  [2, 20],\n",
       "  [0, 4],\n",
       "  [0, 23],\n",
       "  [2, 7],\n",
       "  [27, 21],\n",
       "  [7, 15]],\n",
       " 'interaction': 2,\n",
       " 'params': [{'knots': array([-1.90657694,  0.63927268]), 'signs': [1, 1]},\n",
       "  {'knots': array([-0.69768139,  1.52801491]), 'signs': [-1, 1]},\n",
       "  {'knots': array([-1.44637715,  0.84477687]), 'signs': [-1, 1]},\n",
       "  {'knots': array([ 1.02285599,  0.16142696]), 'signs': [1, -1]},\n",
       "  {'knots': array([-0.12716787,  1.64778461]), 'signs': [1, -1]},\n",
       "  {'knots': array([ 0.4245224 ,  0.35495156]), 'signs': [1, 1]},\n",
       "  {'knots': array([ 0.3560033 ,  1.01781851]), 'signs': [1, -1]},\n",
       "  {'knots': array([ 0.05189544,  1.58759137]), 'signs': [1, 1]},\n",
       "  {'knots': array([-0.58131973, -0.6289852 ]), 'signs': [1, 1]},\n",
       "  {'knots': array([ 1.77126358,  1.78783793]), 'signs': [-1, 1]}]}"
      ]
     },
     "execution_count": 8,
     "metadata": {},
     "output_type": "execute_result"
    }
   ],
   "source": [
    "current_model.export()"
   ]
  }
 ],
 "metadata": {
  "kernelspec": {
   "display_name": "Python [default]",
   "language": "python",
   "name": "python3"
  },
  "language_info": {
   "codemirror_mode": {
    "name": "ipython",
    "version": 3
   },
   "file_extension": ".py",
   "mimetype": "text/x-python",
   "name": "python",
   "nbconvert_exporter": "python",
   "pygments_lexer": "ipython3",
   "version": "3.5.2"
  }
 },
 "nbformat": 4,
 "nbformat_minor": 2
}
