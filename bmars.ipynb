{
 "cells": [
  {
   "cell_type": "code",
   "execution_count": 1,
   "metadata": {},
   "outputs": [],
   "source": [
    "from base_model import *"
   ]
  },
  {
   "cell_type": "code",
   "execution_count": 2,
   "metadata": {
    "collapsed": true
   },
   "outputs": [],
   "source": [
    "import numpy as np\n",
    "import pandas as pd\n",
    "\n",
    "from sklearn.pipeline import Pipeline\n",
    "from sklearn.linear_model import SGDRegressor\n",
    "from sklearn.model_selection import KFold\n",
    "from sklearn.model_selection import cross_val_score\n",
    "from sklearn import datasets\n",
    "# for sampling\n",
    "import random # use random.choice? and random.sample for interactions\n",
    "\n",
    "from sklearn.metrics import make_scorer\n",
    "from sklearn.metrics import *\n"
   ]
  },
  {
   "cell_type": "code",
   "execution_count": 3,
   "metadata": {
    "collapsed": true
   },
   "outputs": [],
   "source": [
    "score_likelihood = make_scorer(gaussian_likelihood)"
   ]
  },
  {
   "cell_type": "code",
   "execution_count": 4,
   "metadata": {
    "collapsed": true
   },
   "outputs": [],
   "source": [
    "# create random f\n",
    "def fpoly(x):\n",
    "    trans = random.choice(range(2, 5))\n",
    "    \n",
    "    def f1(x):\n",
    "        return x\n",
    "    \n",
    "    def f2(x):\n",
    "        return np.max(x-np.percentile(x, random.choice(range(100))), 0) + x\n",
    "    \n",
    "    for _ in range(trans):\n",
    "        f = random.choice([np.sin, f1, f2,\n",
    "                          f1, f2, \n",
    "                          f1, f2])\n",
    "        x = x * f(x)\n",
    "    return x"
   ]
  },
  {
   "cell_type": "code",
   "execution_count": 5,
   "metadata": {
    "collapsed": true
   },
   "outputs": [],
   "source": [
    "def eval_pipeline(additional_feats, X, y, verbose=True, scoring=make_scorer(mean_squared_error)):\n",
    "    #print(additional_feats)    \n",
    "    pipeline = additional_feats[:]\n",
    "    pipeline.append(('SGD_regressor', SGDRegressor(loss='squared_loss', penalty='elasticnet')))\n",
    "    model = Pipeline(pipeline[:])\n",
    "\n",
    "    # split data into 10 folds\n",
    "    kfold = KFold(n_splits=10, shuffle=True)\n",
    "    results = cross_val_score(model, X, y, cv=kfold, \n",
    "                              scoring = scoring)\n",
    "    if verbose:\n",
    "        print(\"Result: {}\".format(results.mean()))\n",
    "    return results.mean()"
   ]
  },
  {
   "cell_type": "code",
   "execution_count": 6,
   "metadata": {},
   "outputs": [],
   "source": [
    "n_samples = 1000\n",
    "n_outliers = 50\n",
    "X, y = datasets.make_regression(n_samples=n_samples, n_features=100,\n",
    "                                      n_informative=100, noise=10,\n",
    "                                      random_state=0, n_targets=1)\n",
    "\n",
    "# sample X\n",
    "cols = random.sample(range(X.shape[1]), 25)\n",
    "y_poly = y\n",
    "for col in cols:\n",
    "    y_poly = fpoly(X[:, col]) + y\n",
    "y_poly = ((y_poly)/np.mean(y_poly) + \n",
    "          np.random.normal(scale=np.std(y), size=y.shape[0]))"
   ]
  },
  {
   "cell_type": "code",
   "execution_count": 7,
   "metadata": {},
   "outputs": [
    {
     "name": "stdout",
     "output_type": "stream",
     "text": [
      "Result: 119.32066417174083\n"
     ]
    },
    {
     "data": {
      "text/plain": [
       "119.32066417174083"
      ]
     },
     "execution_count": 7,
     "metadata": {},
     "output_type": "execute_result"
    }
   ],
   "source": [
    "# take a random sample\n",
    "eval_pipeline([], X, y)"
   ]
  },
  {
   "cell_type": "code",
   "execution_count": 8,
   "metadata": {},
   "outputs": [
    {
     "name": "stdout",
     "output_type": "stream",
     "text": [
      "Result: 333796.39631383476\n"
     ]
    },
    {
     "data": {
      "text/plain": [
       "333796.39631383476"
      ]
     },
     "execution_count": 8,
     "metadata": {},
     "output_type": "execute_result"
    }
   ],
   "source": [
    "# take a random sample\n",
    "eval_pipeline([], X, y_poly)"
   ]
  },
  {
   "cell_type": "code",
   "execution_count": 9,
   "metadata": {},
   "outputs": [],
   "source": [
    "#eval_pipeline([], X, y_poly, scoring=score_likelihood)"
   ]
  },
  {
   "cell_type": "code",
   "execution_count": 10,
   "metadata": {
    "collapsed": true
   },
   "outputs": [],
   "source": [
    "#### do some iterations"
   ]
  },
  {
   "cell_type": "code",
   "execution_count": 11,
   "metadata": {
    "collapsed": true
   },
   "outputs": [],
   "source": [
    "bmars = BMARS(X)"
   ]
  },
  {
   "cell_type": "code",
   "execution_count": 12,
   "metadata": {},
   "outputs": [
    {
     "data": {
      "text/plain": [
       "[('union',\n",
       "  FeatureUnion(n_jobs=1, transformer_list=[('base model', BaseModel())],\n",
       "         transformer_weights=None))]"
      ]
     },
     "execution_count": 12,
     "metadata": {},
     "output_type": "execute_result"
    }
   ],
   "source": [
    "[('union', bmars.construct_pipeline(False))]"
   ]
  },
  {
   "cell_type": "code",
   "execution_count": 13,
   "metadata": {},
   "outputs": [
    {
     "name": "stdout",
     "output_type": "stream",
     "text": [
      "Result: 121.21239411112704\n"
     ]
    },
    {
     "data": {
      "text/plain": [
       "121.21239411112704"
      ]
     },
     "execution_count": 13,
     "metadata": {},
     "output_type": "execute_result"
    }
   ],
   "source": [
    "# evaluate...\n",
    "eval_pipeline([('union', bmars.construct_pipeline(False))], X, y)"
   ]
  },
  {
   "cell_type": "code",
   "execution_count": 14,
   "metadata": {},
   "outputs": [],
   "source": [
    "# one iteration of mh\n",
    "bk, dk, ck = output_prob_state(0)\n",
    "u = np.random.uniform()\n",
    "action = output_action(u, bk, dk, ck)"
   ]
  },
  {
   "cell_type": "code",
   "execution_count": 15,
   "metadata": {},
   "outputs": [],
   "source": [
    "l = 20.62195407652395"
   ]
  },
  {
   "cell_type": "code",
   "execution_count": 16,
   "metadata": {
    "collapsed": true
   },
   "outputs": [],
   "source": [
    "basis = bmars.perform_action(action)"
   ]
  },
  {
   "cell_type": "code",
   "execution_count": 17,
   "metadata": {
    "collapsed": true
   },
   "outputs": [],
   "source": [
    "proposed_model = BMARS(**bmars.export())"
   ]
  },
  {
   "cell_type": "code",
   "execution_count": 35,
   "metadata": {},
   "outputs": [
    {
     "data": {
      "text/plain": [
       "{'basis': [9, 71],\n",
       " 'knots': array([ 1.17448521, -0.47054328]),\n",
       " 'signs': [1, -1]}"
      ]
     },
     "execution_count": 35,
     "metadata": {},
     "output_type": "execute_result"
    }
   ],
   "source": [
    "output = bmars_sample_basis(X, list(basis))\n",
    "output"
   ]
  },
  {
   "cell_type": "code",
   "execution_count": 22,
   "metadata": {
    "collapsed": true
   },
   "outputs": [],
   "source": [
    "if action == 'birth':\n",
    "    bmars_sample_basis(X, list(basis), {'signs':[-1, 1]})"
   ]
  }
 ],
 "metadata": {
  "kernelspec": {
   "display_name": "Python [default]",
   "language": "python",
   "name": "python3"
  },
  "language_info": {
   "codemirror_mode": {
    "name": "ipython",
    "version": 3
   },
   "file_extension": ".py",
   "mimetype": "text/x-python",
   "name": "python",
   "nbconvert_exporter": "python",
   "pygments_lexer": "ipython3",
   "version": "3.5.2"
  }
 },
 "nbformat": 4,
 "nbformat_minor": 2
}
