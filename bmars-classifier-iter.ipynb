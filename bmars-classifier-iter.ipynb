{
 "cells": [
  {
   "cell_type": "code",
   "execution_count": 1,
   "metadata": {
    "collapsed": true
   },
   "outputs": [],
   "source": [
    "from base_classification import *"
   ]
  },
  {
   "cell_type": "code",
   "execution_count": 2,
   "metadata": {
    "collapsed": true
   },
   "outputs": [],
   "source": [
    "from __future__ import print_function\n",
    "import numpy as np\n",
    "import pandas as pd\n",
    "\n",
    "from sklearn.pipeline import Pipeline\n",
    "from sklearn.linear_model import SGDClassifier\n",
    "from sklearn.svm import SVC\n",
    "from sklearn.model_selection import KFold\n",
    "from sklearn.model_selection import cross_val_score\n",
    "from sklearn import datasets\n",
    "from sklearn import svm\n",
    "# for sampling\n",
    "import random # use random.choice? and random.sample for interactions\n",
    "\n",
    "from sklearn.metrics import make_scorer\n",
    "from sklearn.datasets import make_classification\n",
    "from sklearn.metrics import *\n"
   ]
  },
  {
   "cell_type": "code",
   "execution_count": 3,
   "metadata": {
    "collapsed": false
   },
   "outputs": [],
   "source": [
    "X, y = make_classification(1000, n_features=30, n_informative=5, n_classes=3)"
   ]
  },
  {
   "cell_type": "code",
   "execution_count": 4,
   "metadata": {
    "collapsed": true
   },
   "outputs": [],
   "source": [
    "# start..."
   ]
  },
  {
   "cell_type": "code",
   "execution_count": 5,
   "metadata": {
    "collapsed": false
   },
   "outputs": [
    {
     "name": "stdout",
     "output_type": "stream",
     "text": [
      "Result: 0.595\n"
     ]
    },
    {
     "data": {
      "text/plain": [
       "0.59499999999999997"
      ]
     },
     "execution_count": 5,
     "metadata": {},
     "output_type": "execute_result"
    }
   ],
   "source": [
    "current_model = BMARS(X, 2)\n",
    "eval_pipeline(current_model.construct_pipeline(False), X, y)"
   ]
  },
  {
   "cell_type": "code",
   "execution_count": 6,
   "metadata": {
    "collapsed": false
   },
   "outputs": [
    {
     "name": "stdout",
     "output_type": "stream",
     "text": [
      "action: birth\n",
      "action: birth\n",
      "output: {'basis': [8, 20], 'knot': array([-0.53913595, -0.44852213]), 'sign': [1, 1]}\n",
      "acceptance_proba: 1.0\n",
      "\tbayes_factor: 1.02212855638\n",
      "\tprior_ratio: 8.43812216819e-09\n",
      "\tproposal_ratio: 355529339.372\n"
     ]
    }
   ],
   "source": [
    "alpha, model1 = mh_iter(X, y, current_model)"
   ]
  },
  {
   "cell_type": "code",
   "execution_count": 7,
   "metadata": {
    "collapsed": false
   },
   "outputs": [
    {
     "data": {
      "text/plain": [
       "True"
      ]
     },
     "execution_count": 7,
     "metadata": {},
     "output_type": "execute_result"
    }
   ],
   "source": [
    "alpha"
   ]
  },
  {
   "cell_type": "code",
   "execution_count": 8,
   "metadata": {
    "collapsed": false
   },
   "outputs": [
    {
     "data": {
      "text/plain": [
       "{'X': array([[-0.44905962, -1.22460019, -0.62538856, -1.83243386,  0.7717871 ,\n",
       "          0.71506796, -0.20535134,  1.57121937,  1.8701835 , -0.57819916,\n",
       "         -0.64420374,  0.57964576, -0.69777862, -1.23612628, -0.13077467,\n",
       "          0.74925675,  0.32329658,  0.90032652, -1.48416377,  0.96696283,\n",
       "          0.52323077, -0.71815749,  0.45469254,  0.10820051,  1.62993106,\n",
       "          1.37414428, -0.99299016, -2.24809601,  0.5060601 ,  0.24088719]]),\n",
       " 'basis': [[8, 20]],\n",
       " 'interaction': 2,\n",
       " 'params': [{'knots': array([-0.53913595, -0.44852213]), 'signs': [1, 1]}]}"
      ]
     },
     "execution_count": 8,
     "metadata": {},
     "output_type": "execute_result"
    }
   ],
   "source": [
    "model1"
   ]
  },
  {
   "cell_type": "code",
   "execution_count": 9,
   "metadata": {
    "collapsed": false,
    "scrolled": true
   },
   "outputs": [
    {
     "name": "stdout",
     "output_type": "stream",
     "text": [
      "action: birth\n",
      "action: change\n",
      "action: birth\n",
      "action: birth\n",
      "action: birth\n",
      "action: change\n",
      "action: change\n",
      "action: birth\n",
      "action: death\n",
      "action: death\n",
      "action: change\n",
      "action: change\n",
      "action: death\n",
      "action: birth\n",
      "action: change\n",
      "action: birth\n",
      "action: death\n",
      "action: change\n",
      "action: change\n",
      "action: birth\n",
      "action: birth\n",
      "action: change\n",
      "action: change\n",
      "action: change\n",
      "action: change\n",
      "action: birth\n",
      "action: change\n",
      "action: death\n",
      "action: death\n",
      "action: change\n",
      "action: birth\n",
      "action: change\n",
      "action: change\n",
      "action: change\n",
      "action: birth\n",
      "action: death\n",
      "action: birth\n",
      "action: birth\n",
      "action: birth\n",
      "action: birth\n",
      "action: birth\n",
      "action: birth\n",
      "\n",
      "---\n",
      "\n",
      "action: birth\n",
      "action: change\n",
      "action: change\n",
      "action: death\n",
      "action: change\n",
      "action: change\n",
      "action: death\n",
      "action: change\n",
      "CPU times: user 33min 12s, sys: 3h 49min 57s, total: 4h 23min 9s\n",
      "Wall time: 21min 10s\n"
     ]
    }
   ],
   "source": [
    "%%time\n",
    "# run for 10 iters...\n",
    "iters = 50\n",
    "\n",
    "for _ in range(iters):\n",
    "    try:\n",
    "        alpha, next_model = mh_iter(X, y, current_model, False)\n",
    "        current_model = BMARS(**next_model)   \n",
    "    except:\n",
    "        print(\"\\n---\\n\")\n",
    "        pass\n",
    "    "
   ]
  },
  {
   "cell_type": "code",
   "execution_count": 10,
   "metadata": {
    "collapsed": false
   },
   "outputs": [
    {
     "name": "stdout",
     "output_type": "stream",
     "text": [
      "Result: 0.556\n"
     ]
    },
    {
     "data": {
      "text/plain": [
       "0.55599999999999994"
      ]
     },
     "execution_count": 10,
     "metadata": {},
     "output_type": "execute_result"
    }
   ],
   "source": [
    "eval_pipeline(current_model.construct_pipeline(False), X, y)"
   ]
  },
  {
   "cell_type": "code",
   "execution_count": 11,
   "metadata": {
    "collapsed": false
   },
   "outputs": [
    {
     "data": {
      "text/plain": [
       "{'X': array([[-0.44905962, -1.22460019, -0.62538856, -1.83243386,  0.7717871 ,\n",
       "          0.71506796, -0.20535134,  1.57121937,  1.8701835 , -0.57819916,\n",
       "         -0.64420374,  0.57964576, -0.69777862, -1.23612628, -0.13077467,\n",
       "          0.74925675,  0.32329658,  0.90032652, -1.48416377,  0.96696283,\n",
       "          0.52323077, -0.71815749,  0.45469254,  0.10820051,  1.62993106,\n",
       "          1.37414428, -0.99299016, -2.24809601,  0.5060601 ,  0.24088719]]),\n",
       " 'basis': [[10, 21],\n",
       "  [6, 17],\n",
       "  [8, 16],\n",
       "  [22],\n",
       "  [1, 28],\n",
       "  [17, 23],\n",
       "  [24, 29],\n",
       "  [8, 23],\n",
       "  [16, 13],\n",
       "  [9, 13]],\n",
       " 'interaction': 2,\n",
       " 'params': [{'knots': array([-1.19921043, -3.50595851]), 'signs': [-1, -1]},\n",
       "  {'knots': array([ 2.04778049,  0.88660623]), 'signs': [1, -1]},\n",
       "  {'knots': array([ 1.96748593, -1.54483319]), 'signs': [-1, 1]},\n",
       "  {'knots': array([-0.24900204]), 'signs': [1]},\n",
       "  {'knots': array([-0.83535652,  0.86712726]), 'signs': [1, -1]},\n",
       "  {'knots': array([-0.13080154,  0.07555098]), 'signs': [1, -1]},\n",
       "  {'knots': array([-1.38332359, -0.5128113 ]), 'signs': [-1, -1]},\n",
       "  {'knots': array([-1.33671327,  0.96129535]), 'signs': [1, -1]},\n",
       "  {'knots': array([ 1.66572807, -0.4176297 ]), 'signs': [1, -1]},\n",
       "  {'knots': array([ 0.63934427,  0.06611709]), 'signs': [-1, 1]}]}"
      ]
     },
     "execution_count": 11,
     "metadata": {},
     "output_type": "execute_result"
    }
   ],
   "source": [
    "current_model.export()"
   ]
  }
 ],
 "metadata": {
  "kernelspec": {
   "display_name": "Python 2",
   "language": "python",
   "name": "python2"
  },
  "language_info": {
   "codemirror_mode": {
    "name": "ipython",
    "version": 2
   },
   "file_extension": ".py",
   "mimetype": "text/x-python",
   "name": "python",
   "nbconvert_exporter": "python",
   "pygments_lexer": "ipython2",
   "version": "2.7.11"
  }
 },
 "nbformat": 4,
 "nbformat_minor": 2
}
