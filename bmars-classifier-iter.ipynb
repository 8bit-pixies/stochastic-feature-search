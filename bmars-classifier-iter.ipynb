{
 "cells": [
  {
   "cell_type": "code",
   "execution_count": 1,
   "metadata": {
    "collapsed": true
   },
   "outputs": [],
   "source": [
    "from base_classification import *"
   ]
  },
  {
   "cell_type": "code",
   "execution_count": 2,
   "metadata": {
    "collapsed": true
   },
   "outputs": [],
   "source": [
    "import numpy as np\n",
    "import pandas as pd\n",
    "\n",
    "from sklearn.pipeline import Pipeline\n",
    "from sklearn.linear_model import SGDClassifier\n",
    "from sklearn.svm import SVC\n",
    "from sklearn.model_selection import KFold\n",
    "from sklearn.model_selection import cross_val_score\n",
    "from sklearn import datasets\n",
    "from sklearn import svm\n",
    "# for sampling\n",
    "import random # use random.choice? and random.sample for interactions\n",
    "\n",
    "from sklearn.metrics import make_scorer\n",
    "from sklearn.datasets import make_classification\n",
    "from sklearn.metrics import *\n"
   ]
  },
  {
   "cell_type": "code",
   "execution_count": 3,
   "metadata": {
    "collapsed": true
   },
   "outputs": [],
   "source": [
    "X, y = make_classification(2000)"
   ]
  },
  {
   "cell_type": "code",
   "execution_count": 4,
   "metadata": {
    "collapsed": true
   },
   "outputs": [],
   "source": [
    "def eval_pipeline(additional_feats, X, y, verbose=True):\n",
    "    #print(additional_feats)    \n",
    "    pipeline = additional_feats[:]\n",
    "    pipeline.append(('SVC', SVC()))\n",
    "    model = Pipeline(pipeline[:])\n",
    "\n",
    "    # split data into 10 folds\n",
    "    kfold = KFold(n_splits=10, shuffle=False, random_state=42)\n",
    "    results = cross_val_score(model, X, y, cv=kfold)\n",
    "    if verbose:\n",
    "        print(\"Result: {}\".format(results.mean()))\n",
    "    return results.mean()"
   ]
  },
  {
   "cell_type": "code",
   "execution_count": 5,
   "metadata": {
    "collapsed": true
   },
   "outputs": [],
   "source": [
    "# start..."
   ]
  },
  {
   "cell_type": "code",
   "execution_count": 6,
   "metadata": {
    "collapsed": true
   },
   "outputs": [],
   "source": [
    "bmars = BMARS(X)"
   ]
  },
  {
   "cell_type": "code",
   "execution_count": 9,
   "metadata": {},
   "outputs": [
    {
     "name": "stdout",
     "output_type": "stream",
     "text": [
      "action: birth\n",
      "output: {'sign': [1, -1], 'basis': [10, 13], 'knot': array([ 0.09773387, -0.27096196])}\n",
      "acceptance_proba: 1.0\n",
      "\tbayes_factor: 0.99761936003899\n",
      "\tprior_ratio: 7.524192478487837e-09\n",
      "\tproposal_ratio: 398713883.0614968\n"
     ]
    }
   ],
   "source": [
    "alpha, model1 = mh_iter(X, y, 2, bmars)"
   ]
  },
  {
   "cell_type": "code",
   "execution_count": 10,
   "metadata": {},
   "outputs": [],
   "source": [
    "alpha, model1 = mh_iter(X, y, 2, bmars, debug=False)"
   ]
  },
  {
   "cell_type": "code",
   "execution_count": 11,
   "metadata": {},
   "outputs": [
    {
     "data": {
      "text/plain": [
       "{'X': array([[ 1.44880572, -0.09367609, -3.77981658, ..., -0.64169079,\n",
       "         -3.28128114,  2.42538658],\n",
       "        [ 0.50609567,  1.55561976,  0.28482781, ...,  0.20626566,\n",
       "         -0.54176465,  1.53012186],\n",
       "        [-1.38895902, -1.85100362,  0.08812766, ..., -0.49911031,\n",
       "         -0.67412575,  1.57298573],\n",
       "        ..., \n",
       "        [ 0.44583702, -0.25392241, -0.35398397, ..., -0.66442722,\n",
       "         -0.68777208,  1.05311247],\n",
       "        [-0.5714511 ,  0.95761988, -0.78233864, ..., -0.17652575,\n",
       "          0.41893423, -1.88182388],\n",
       "        [-2.26180508, -1.5671882 ,  1.97700937, ...,  0.98822091,\n",
       "          1.41144739, -0.60688285]]),\n",
       " 'basis': [[16, 19]],\n",
       " 'interaction': 2,\n",
       " 'params': [{'knots': array([ 0.33671045, -2.48678638]), 'signs': [1, -1]}]}"
      ]
     },
     "execution_count": 11,
     "metadata": {},
     "output_type": "execute_result"
    }
   ],
   "source": [
    "model1"
   ]
  }
 ],
 "metadata": {
  "kernelspec": {
   "display_name": "Python [default]",
   "language": "python",
   "name": "python3"
  },
  "language_info": {
   "codemirror_mode": {
    "name": "ipython",
    "version": 3
   },
   "file_extension": ".py",
   "mimetype": "text/x-python",
   "name": "python",
   "nbconvert_exporter": "python",
   "pygments_lexer": "ipython3",
   "version": "3.5.2"
  }
 },
 "nbformat": 4,
 "nbformat_minor": 2
}
