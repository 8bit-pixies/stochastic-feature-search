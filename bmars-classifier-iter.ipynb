{
 "cells": [
  {
   "cell_type": "code",
   "execution_count": 1,
   "metadata": {},
   "outputs": [],
   "source": [
    "from base_classification import *"
   ]
  },
  {
   "cell_type": "code",
   "execution_count": 2,
   "metadata": {
    "collapsed": true
   },
   "outputs": [],
   "source": [
    "from __future__ import print_function\n",
    "import numpy as np\n",
    "import pandas as pd\n",
    "\n",
    "from sklearn.pipeline import Pipeline\n",
    "from sklearn.linear_model import SGDClassifier\n",
    "from sklearn.svm import SVC\n",
    "from sklearn.model_selection import KFold\n",
    "from sklearn.model_selection import cross_val_score\n",
    "from sklearn import datasets\n",
    "from sklearn import svm\n",
    "# for sampling\n",
    "import random # use random.choice? and random.sample for interactions\n",
    "\n",
    "from sklearn.metrics import make_scorer\n",
    "from sklearn.datasets import make_classification\n",
    "from sklearn.metrics import *\n"
   ]
  },
  {
   "cell_type": "code",
   "execution_count": 3,
   "metadata": {
    "collapsed": true
   },
   "outputs": [],
   "source": [
    "X, y = make_classification(2000)"
   ]
  },
  {
   "cell_type": "code",
   "execution_count": 4,
   "metadata": {
    "collapsed": true
   },
   "outputs": [],
   "source": [
    "# start..."
   ]
  },
  {
   "cell_type": "code",
   "execution_count": 5,
   "metadata": {},
   "outputs": [
    {
     "name": "stdout",
     "output_type": "stream",
     "text": [
      "Result: 0.7665\n"
     ]
    },
    {
     "data": {
      "text/plain": [
       "0.76649999999999996"
      ]
     },
     "execution_count": 5,
     "metadata": {},
     "output_type": "execute_result"
    }
   ],
   "source": [
    "current_model = BMARS(X, 2)\n",
    "eval_pipeline(current_model.construct_pipeline(False), X, y)"
   ]
  },
  {
   "cell_type": "code",
   "execution_count": 6,
   "metadata": {},
   "outputs": [
    {
     "name": "stdout",
     "output_type": "stream",
     "text": [
      "action: birth\n",
      "action: birth\n",
      "output: {'sign': [1, -1], 'basis': [9, 16], 'knot': array([-0.70784789,  0.19708867])}\n",
      "acceptance_proba: 1.0\n",
      "\tbayes_factor: 1.0018326206475263\n",
      "\tprior_ratio: 6.346338677904939e-09\n",
      "\tproposal_ratio: 472713504.944928\n"
     ]
    }
   ],
   "source": [
    "alpha, model1 = mh_iter(X, y, current_model)"
   ]
  },
  {
   "cell_type": "code",
   "execution_count": 7,
   "metadata": {},
   "outputs": [
    {
     "data": {
      "text/plain": [
       "True"
      ]
     },
     "execution_count": 7,
     "metadata": {},
     "output_type": "execute_result"
    }
   ],
   "source": [
    "alpha"
   ]
  },
  {
   "cell_type": "code",
   "execution_count": 8,
   "metadata": {},
   "outputs": [
    {
     "data": {
      "text/plain": [
       "{'X': array([[ 0.29587129, -0.66376295,  2.28400098,  1.74521736, -0.17864501,\n",
       "         -0.13268503, -1.19986506,  0.50111783, -0.07884688,  0.55941311,\n",
       "         -1.17960553,  0.26435775,  2.21547411, -0.14707045,  0.22116258,\n",
       "         -0.61269316,  0.18726332, -1.29042603,  0.16132383, -0.8468612 ]]),\n",
       " 'basis': [[9, 16]],\n",
       " 'interaction': 2,\n",
       " 'params': [{'knots': array([-0.70784789,  0.19708867]), 'signs': [1, -1]}]}"
      ]
     },
     "execution_count": 8,
     "metadata": {},
     "output_type": "execute_result"
    }
   ],
   "source": [
    "model1"
   ]
  },
  {
   "cell_type": "code",
   "execution_count": 9,
   "metadata": {
    "scrolled": true
   },
   "outputs": [
    {
     "name": "stdout",
     "output_type": "stream",
     "text": [
      "action: birth\n",
      "action: change\n",
      "action: birth\n",
      "action: birth\n",
      "action: change\n",
      "action: death\n",
      "action: change\n",
      "action: change\n",
      "action: birth\n",
      "action: change\n",
      "action: change\n",
      "action: change\n",
      "action: change\n",
      "action: birth\n",
      "action: change\n",
      "action: death\n",
      "action: birth\n",
      "action: birth\n",
      "action: death\n",
      "action: birth\n",
      "action: birth\n",
      "action: change\n",
      "action: change\n",
      "action: death\n",
      "action: birth\n",
      "action: death\n",
      "action: change\n",
      "action: change\n",
      "action: change\n",
      "action: change\n",
      "action: change\n",
      "action: change\n",
      "action: death\n",
      "action: death\n",
      "action: birth\n",
      "action: birth\n",
      "action: change\n",
      "action: birth\n",
      "action: birth\n",
      "action: birth\n",
      "action: change\n",
      "action: birth\n",
      "action: birth\n",
      "action: birth\n",
      "action: death\n",
      "action: birth\n",
      "action: death\n",
      "action: change\n",
      "action: change\n",
      "action: change\n"
     ]
    }
   ],
   "source": [
    "# run for 10 iters...\n",
    "iters = 50\n",
    "\n",
    "for _ in range(iters):\n",
    "    try:\n",
    "        alpha, next_model = mh_iter(X, y, current_model, False)\n",
    "        current_model = BMARS(**next_model)   \n",
    "    except:\n",
    "        print(\"\\n---\\n\")\n",
    "        pass\n",
    "    "
   ]
  },
  {
   "cell_type": "code",
   "execution_count": 10,
   "metadata": {},
   "outputs": [
    {
     "name": "stdout",
     "output_type": "stream",
     "text": [
      "Result: 0.7460000000000001\n"
     ]
    },
    {
     "data": {
      "text/plain": [
       "0.74600000000000011"
      ]
     },
     "execution_count": 10,
     "metadata": {},
     "output_type": "execute_result"
    }
   ],
   "source": [
    "eval_pipeline(current_model.construct_pipeline(False), X, y)"
   ]
  },
  {
   "cell_type": "code",
   "execution_count": 11,
   "metadata": {},
   "outputs": [
    {
     "data": {
      "text/plain": [
       "{'X': array([[ 0.29587129, -0.66376295,  2.28400098,  1.74521736, -0.17864501,\n",
       "         -0.13268503, -1.19986506,  0.50111783, -0.07884688,  0.55941311,\n",
       "         -1.17960553,  0.26435775,  2.21547411, -0.14707045,  0.22116258,\n",
       "         -0.61269316,  0.18726332, -1.29042603,  0.16132383, -0.8468612 ]]),\n",
       " 'basis': [[12, 6],\n",
       "  [1, 6],\n",
       "  [12, 18],\n",
       "  [1, 3],\n",
       "  [7, 12],\n",
       "  [3, 17],\n",
       "  [0, 17],\n",
       "  [0, 19],\n",
       "  [2, 10],\n",
       "  [1, 2]],\n",
       " 'interaction': 2,\n",
       " 'params': [{'knots': array([ 0.86029676,  0.14885143]), 'signs': [-1, 1]},\n",
       "  {'knots': array([ 1.03064424, -0.0317254 ]), 'signs': [1, 1]},\n",
       "  {'knots': array([ 0.90003421, -1.55763741]), 'signs': [1, 1]},\n",
       "  {'knots': array([-0.42783983,  1.73842192]), 'signs': [1, 1]},\n",
       "  {'knots': array([ 0.96155095,  1.69100481]), 'signs': [-1, 1]},\n",
       "  {'knots': array([ 2.04700286,  0.19208626]), 'signs': [1, -1]},\n",
       "  {'knots': array([ 0.94500333,  1.15673523]), 'signs': [-1, 1]},\n",
       "  {'knots': array([ 0.19894011, -0.4824895 ]), 'signs': [-1, -1]},\n",
       "  {'knots': array([-1.06561374, -0.02665461]), 'signs': [1, -1]},\n",
       "  {'knots': array([ 0.08506843,  0.95440872]), 'signs': [1, -1]}]}"
      ]
     },
     "execution_count": 11,
     "metadata": {},
     "output_type": "execute_result"
    }
   ],
   "source": [
    "current_model.export()"
   ]
  }
 ],
 "metadata": {
  "kernelspec": {
   "display_name": "Python [default]",
   "language": "python",
   "name": "python3"
  },
  "language_info": {
   "codemirror_mode": {
    "name": "ipython",
    "version": 3
   },
   "file_extension": ".py",
   "mimetype": "text/x-python",
   "name": "python",
   "nbconvert_exporter": "python",
   "pygments_lexer": "ipython3",
   "version": "3.5.2"
  }
 },
 "nbformat": 4,
 "nbformat_minor": 2
}
