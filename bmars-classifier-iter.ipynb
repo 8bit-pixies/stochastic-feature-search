{
 "cells": [
  {
   "cell_type": "code",
   "execution_count": 1,
   "metadata": {
    "collapsed": true
   },
   "outputs": [],
   "source": [
    "from base_classification import *"
   ]
  },
  {
   "cell_type": "code",
   "execution_count": 2,
   "metadata": {
    "collapsed": true
   },
   "outputs": [],
   "source": [
    "import numpy as np\n",
    "import pandas as pd\n",
    "\n",
    "from sklearn.pipeline import Pipeline\n",
    "from sklearn.linear_model import SGDClassifier\n",
    "from sklearn.svm import SVC\n",
    "from sklearn.model_selection import KFold\n",
    "from sklearn.model_selection import cross_val_score\n",
    "from sklearn import datasets\n",
    "from sklearn import svm\n",
    "# for sampling\n",
    "import random # use random.choice? and random.sample for interactions\n",
    "\n",
    "from sklearn.metrics import make_scorer\n",
    "from sklearn.datasets import make_classification\n",
    "from sklearn.metrics import *\n"
   ]
  },
  {
   "cell_type": "code",
   "execution_count": 3,
   "metadata": {
    "collapsed": true
   },
   "outputs": [],
   "source": [
    "X, y = make_classification(2000)"
   ]
  },
  {
   "cell_type": "code",
   "execution_count": 4,
   "metadata": {
    "collapsed": true
   },
   "outputs": [],
   "source": [
    "from sklearn import datasets\n",
    "iris = datasets.load_iris()"
   ]
  },
  {
   "cell_type": "code",
   "execution_count": 5,
   "metadata": {
    "collapsed": true
   },
   "outputs": [],
   "source": [
    "def eval_pipeline(additional_feats, X, y, verbose=True):\n",
    "    #print(additional_feats)    \n",
    "    pipeline = additional_feats[:]\n",
    "    pipeline.append(('SVC', SVC()))\n",
    "    model = Pipeline(pipeline[:])\n",
    "\n",
    "    # split data into 10 folds\n",
    "    kfold = KFold(n_splits=10, shuffle=False, random_state=42)\n",
    "    results = cross_val_score(model, X, y, cv=kfold)\n",
    "    if verbose:\n",
    "        print(\"Result: {}\".format(results.mean()))\n",
    "    return results.mean()"
   ]
  },
  {
   "cell_type": "code",
   "execution_count": 6,
   "metadata": {
    "collapsed": true
   },
   "outputs": [],
   "source": [
    "# start..."
   ]
  },
  {
   "cell_type": "code",
   "execution_count": 7,
   "metadata": {
    "collapsed": true
   },
   "outputs": [],
   "source": [
    "bmars = BMARS(X)"
   ]
  },
  {
   "cell_type": "code",
   "execution_count": 8,
   "metadata": {},
   "outputs": [
    {
     "name": "stdout",
     "output_type": "stream",
     "text": [
      "Action: birth\n",
      "basis: [1, 15]\n",
      "output: {'sign': [-1, -1], 'basis': [1, 15], 'knot': array([ 0.10216263,  1.03593919])}\n",
      "alpha: (1.0, {'proposal_ratio': 489148296.3330434, 'prior_ratio': 6.1331093709000817e-09, 'bayes_ratio': 0.99253798435673835})\n"
     ]
    }
   ],
   "source": [
    "interaction = 2\n",
    "current_basis = bmars.export()['basis']\n",
    "k = len(current_basis)+1\n",
    "l = output_poisson_lambda(k)\n",
    "bk, dk, ck = output_prob_state(k, l)\n",
    "\n",
    "action = output_action(np.random.uniform(), bk, dk, ck)\n",
    "basis = bmars.perform_action(action)\n",
    "output = bmars_sample_basis(X, list(basis), {'signs':[-1, 1]})\n",
    "proposed_model = BMARS(**bmars.export())\n",
    "proposed_model.add_basis(**output)\n",
    "\n",
    "alpha = acceptance_proba(X, y, l, interaction, \n",
    "                 bmars, \n",
    "                 proposed_model, mode=action)\n",
    "\n",
    "print(\"Action: {}\".format(action))\n",
    "print(\"basis: {}\".format(list(basis)))\n",
    "print(\"output: {}\".format(output))\n",
    "print(\"alpha: {}\".format(alpha))"
   ]
  },
  {
   "cell_type": "code",
   "execution_count": 19,
   "metadata": {},
   "outputs": [],
   "source": [
    "def mh_iter(X, interaction, current_model, debug=True):\n",
    "    current_basis = current_model.export()['basis']\n",
    "    k = len(current_basis)+1\n",
    "    l = output_poisson_lambda(k)\n",
    "    bk, dk, ck = output_prob_state(k, l)\n",
    "\n",
    "    action = output_action(np.random.uniform(), bk, dk, ck)\n",
    "    basis = current_model.perform_action(action)\n",
    "    output = bmars_sample_basis(X, list(basis), {'signs':[-1, 1]})\n",
    "    proposed_model = BMARS(**current_model.export())\n",
    "    proposed_model.add_basis(**output)\n",
    "\n",
    "    alpha, accept_info = acceptance_proba(X, y, l, interaction, \n",
    "                     current_model, \n",
    "                     proposed_model, mode=action)\n",
    "\n",
    "    if debug:\n",
    "        print(\"Action: {}\".format(action))\n",
    "        print(\"basis: {}\".format(list(basis)))\n",
    "        print(\"output: {}\".format(output))\n",
    "        print(\"alpha: {}\".format(alpha))\n",
    "        print(\"bayes_ratio: {}\".format(accept_info['bayes_ratio']))\n",
    "        print(\"prior_ratio: {}\".format(accept_info['prior_ratio']))\n",
    "        print(\"proposal_ratio: {}\".format(accept_info['proposal_ratio']))\n",
    "    #\n",
    "    return np.random.uniform() < alpha"
   ]
  },
  {
   "cell_type": "code",
   "execution_count": 20,
   "metadata": {},
   "outputs": [
    {
     "name": "stdout",
     "output_type": "stream",
     "text": [
      "Action: birth\n",
      "basis: [19]\n",
      "output: {'sign': [1], 'basis': [19], 'knot': array([-0.04620963])}\n",
      "alpha: 1.0\n",
      "bayes_ratio: 1.0032240730789896\n",
      "prior_ratio: 2.863950910957339e-05\n",
      "proposal_ratio: 104750.39877681342\n"
     ]
    },
    {
     "data": {
      "text/plain": [
       "True"
      ]
     },
     "execution_count": 20,
     "metadata": {},
     "output_type": "execute_result"
    }
   ],
   "source": [
    "mh_iter(X, 2, bmars)"
   ]
  },
  {
   "cell_type": "code",
   "execution_count": 21,
   "metadata": {},
   "outputs": [
    {
     "data": {
      "text/plain": [
       "True"
      ]
     },
     "execution_count": 21,
     "metadata": {},
     "output_type": "execute_result"
    }
   ],
   "source": [
    "mh_iter(X, 2, bmars, debug=False)"
   ]
  }
 ],
 "metadata": {
  "kernelspec": {
   "display_name": "Python [default]",
   "language": "python",
   "name": "python3"
  },
  "language_info": {
   "codemirror_mode": {
    "name": "ipython",
    "version": 3
   },
   "file_extension": ".py",
   "mimetype": "text/x-python",
   "name": "python",
   "nbconvert_exporter": "python",
   "pygments_lexer": "ipython3",
   "version": "3.5.2"
  }
 },
 "nbformat": 4,
 "nbformat_minor": 2
}
