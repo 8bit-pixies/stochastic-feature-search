{
 "cells": [
  {
   "cell_type": "code",
   "execution_count": 1,
   "metadata": {
    "collapsed": true
   },
   "outputs": [],
   "source": [
    "from base_classification import *"
   ]
  },
  {
   "cell_type": "code",
   "execution_count": 2,
   "metadata": {
    "collapsed": true
   },
   "outputs": [],
   "source": [
    "from __future__ import print_function\n",
    "import numpy as np\n",
    "import pandas as pd\n",
    "\n",
    "from sklearn.pipeline import Pipeline\n",
    "from sklearn.linear_model import SGDClassifier\n",
    "from sklearn.svm import SVC\n",
    "from sklearn.model_selection import KFold\n",
    "from sklearn.model_selection import cross_val_score\n",
    "from sklearn import datasets\n",
    "from sklearn import svm\n",
    "# for sampling\n",
    "import random # use random.choice? and random.sample for interactions\n",
    "\n",
    "from sklearn.metrics import make_scorer\n",
    "from sklearn.datasets import make_classification\n",
    "from sklearn.metrics import *\n"
   ]
  },
  {
   "cell_type": "code",
   "execution_count": 3,
   "metadata": {
    "collapsed": true
   },
   "outputs": [],
   "source": [
    "X, y = make_classification(2000)"
   ]
  },
  {
   "cell_type": "code",
   "execution_count": 4,
   "metadata": {
    "collapsed": true
   },
   "outputs": [],
   "source": [
    "# start..."
   ]
  },
  {
   "cell_type": "code",
   "execution_count": 5,
   "metadata": {
    "collapsed": true
   },
   "outputs": [],
   "source": [
    "current_model = BMARS(X, 2)"
   ]
  },
  {
   "cell_type": "code",
   "execution_count": 6,
   "metadata": {
    "collapsed": true
   },
   "outputs": [],
   "source": [
    "current_basis = current_model.export()['basis']\n",
    "k = len(current_basis)+1\n",
    "l = output_poisson_lambda(k)\n",
    "bk, dk, ck = output_prob_state(k, l)\n",
    "\n",
    "action = output_action(np.random.uniform(), bk, dk, ck)\n",
    "basis = current_model.perform_action(action)\n",
    "output = bmars_sample_basis(X, list(basis), {'signs':[-1, 1]})\n",
    "proposed_model = BMARS(**current_model.export())\n",
    "proposed_model.add_basis(**output)"
   ]
  },
  {
   "cell_type": "code",
   "execution_count": 7,
   "metadata": {
    "collapsed": false
   },
   "outputs": [
    {
     "name": "stdout",
     "output_type": "stream",
     "text": [
      "action: birth\n",
      "output: {'basis': [7], 'knot': array([ 0.62588333]), 'sign': [1]}\n",
      "acceptance_proba: 1.0\n",
      "\tbayes_factor: 1.00048660109\n",
      "\tprior_ratio: 2.4493264018e-05\n",
      "\tproposal_ratio: 122482.654733\n"
     ]
    }
   ],
   "source": [
    "alpha, model1 = mh_iter(X, y, current_model)"
   ]
  },
  {
   "cell_type": "code",
   "execution_count": 9,
   "metadata": {
    "collapsed": false
   },
   "outputs": [
    {
     "data": {
      "text/plain": [
       "{'X': array([[-0.42232841,  0.30384945,  0.25634754,  0.7011898 ,  0.6730112 ,\n",
       "          0.50093528,  1.53292872,  0.62588333,  0.01162603,  0.31484118,\n",
       "         -1.24595669, -0.04055513,  0.81363379,  1.48246255,  0.63040283,\n",
       "         -0.93647271,  0.15355999,  0.93456344, -0.56646743, -0.95383332]]),\n",
       " 'basis': [[7]],\n",
       " 'interaction': 2,\n",
       " 'params': [{'knots': array([ 0.62588333]), 'signs': [1]}]}"
      ]
     },
     "execution_count": 9,
     "metadata": {},
     "output_type": "execute_result"
    }
   ],
   "source": [
    "model1"
   ]
  }
 ],
 "metadata": {
  "kernelspec": {
   "display_name": "Python 2",
   "language": "python",
   "name": "python2"
  },
  "language_info": {
   "codemirror_mode": {
    "name": "ipython",
    "version": 2
   },
   "file_extension": ".py",
   "mimetype": "text/x-python",
   "name": "python",
   "nbconvert_exporter": "python",
   "pygments_lexer": "ipython2",
   "version": "2.7.11"
  }
 },
 "nbformat": 4,
 "nbformat_minor": 2
}
